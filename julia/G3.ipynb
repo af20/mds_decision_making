{
 "cells": [
  {
   "cell_type": "code",
   "execution_count": 1,
   "id": "38be3dc5",
   "metadata": {},
   "outputs": [],
   "source": [
    "using JuMP, GLPK"
   ]
  },
  {
   "cell_type": "code",
   "execution_count": 21,
   "id": "40fb8294",
   "metadata": {
    "scrolled": true
   },
   "outputs": [
    {
     "data": {
      "text/plain": [
       "A JuMP Model\n",
       "Feasibility problem with:\n",
       "Variables: 0\n",
       "Model mode: AUTOMATIC\n",
       "CachingOptimizer state: EMPTY_OPTIMIZER\n",
       "Solver name: GLPK"
      ]
     },
     "execution_count": 21,
     "metadata": {},
     "output_type": "execute_result"
    }
   ],
   "source": [
    "m = Model(GLPK.Optimizer)"
   ]
  },
  {
   "cell_type": "code",
   "execution_count": 22,
   "id": "dc3d9e0a",
   "metadata": {},
   "outputs": [
    {
     "data": {
      "text/latex": [
       "constraint11 : $ x5 + x6 - 600 y3 \\geq 0.0 $"
      ],
      "text/plain": [
       "constraint11 : x5 + x6 - 600 y3 >= 0.0"
      ]
     },
     "execution_count": 22,
     "metadata": {},
     "output_type": "execute_result"
    }
   ],
   "source": [
    "@variable(m, x1 >=0)\n",
    "@variable(m, x2 >=0)\n",
    "@variable(m, x3 >=0)\n",
    "@variable(m, x4 >=0)\n",
    "@variable(m, x5 >=0)\n",
    "@variable(m, x6 >=0)\n",
    "@variable(m, y1, Bin)\n",
    "@variable(m, y2, Bin)\n",
    "@variable(m, y3, Bin)\n",
    "\n",
    "@objective(m, Min, 21x1 + 22.5x2 + 22.5x3 + 24.5x4 + 23x5 + 25.5x6 + 1500y1 + 2000y2 + 3000y3)\n",
    "\n",
    "@constraint(m, constraint1, x1 + x2 <= 425)\n",
    "@constraint(m, constraint2, x3 + x4 <= 400)\n",
    "@constraint(m, constraint3, x5 + x6 <= 750)\n",
    "@constraint(m, constraint4, x1 + x3 + x5 >= 550)\n",
    "@constraint(m, constraint5, x2 + x4 + x6 >= 450)\n",
    "@constraint(m, constraint6, x1 + x2 - 425y1 <= 0)\n",
    "@constraint(m, constraint7, x3 + x4 - 400y2 <= 0)\n",
    "@constraint(m, constraint8, x5 + x6 - 750y3 <= 0)\n",
    "@constraint(m, constraint9, x1 + x2 - 100y1 >= 0)\n",
    "@constraint(m, constraint10, x3 + x4 - 250y2 >= 0)\n",
    "@constraint(m, constraint11, x5 + x6 - 600y3 >= 0)"
   ]
  },
  {
   "cell_type": "code",
   "execution_count": 23,
   "id": "f33f2759",
   "metadata": {},
   "outputs": [
    {
     "data": {
      "text/latex": [
       "$$ \\begin{aligned}\n",
       "\\min\\quad & 21 x1 + 22.5 x2 + 22.5 x3 + 24.5 x4 + 23 x5 + 25.5 x6 + 1500 y1 + 2000 y2 + 3000 y3\\\\\n",
       "\\text{Subject to} \\quad & x1 + x3 + x5 \\geq 550.0\\\\\n",
       " & x2 + x4 + x6 \\geq 450.0\\\\\n",
       " & x1 + x2 - 100 y1 \\geq 0.0\\\\\n",
       " & x3 + x4 - 250 y2 \\geq 0.0\\\\\n",
       " & x5 + x6 - 600 y3 \\geq 0.0\\\\\n",
       " & x1 + x2 \\leq 425.0\\\\\n",
       " & x3 + x4 \\leq 400.0\\\\\n",
       " & x5 + x6 \\leq 750.0\\\\\n",
       " & x1 + x2 - 425 y1 \\leq 0.0\\\\\n",
       " & x3 + x4 - 400 y2 \\leq 0.0\\\\\n",
       " & x5 + x6 - 750 y3 \\leq 0.0\\\\\n",
       " & x1 \\geq 0.0\\\\\n",
       " & x2 \\geq 0.0\\\\\n",
       " & x3 \\geq 0.0\\\\\n",
       " & x4 \\geq 0.0\\\\\n",
       " & x5 \\geq 0.0\\\\\n",
       " & x6 \\geq 0.0\\\\\n",
       " & y1 \\in \\{0, 1\\}\\\\\n",
       " & y2 \\in \\{0, 1\\}\\\\\n",
       " & y3 \\in \\{0, 1\\}\\\\\n",
       "\\end{aligned} $$"
      ]
     },
     "metadata": {},
     "output_type": "display_data"
    }
   ],
   "source": [
    "print(m)"
   ]
  },
  {
   "cell_type": "code",
   "execution_count": 24,
   "id": "3e52d44e",
   "metadata": {},
   "outputs": [
    {
     "data": {
      "text/plain": [
       "A JuMP Model\n",
       "Minimization problem with:\n",
       "Variables: 9\n",
       "Objective function type: AffExpr\n",
       "`AffExpr`-in-`MathOptInterface.GreaterThan{Float64}`: 5 constraints\n",
       "`AffExpr`-in-`MathOptInterface.LessThan{Float64}`: 6 constraints\n",
       "`VariableRef`-in-`MathOptInterface.GreaterThan{Float64}`: 6 constraints\n",
       "`VariableRef`-in-`MathOptInterface.ZeroOne`: 3 constraints\n",
       "Model mode: AUTOMATIC\n",
       "CachingOptimizer state: EMPTY_OPTIMIZER\n",
       "Solver name: GLPK\n",
       "Names registered in the model: constraint1, constraint10, constraint11, constraint2, constraint3, constraint4, constraint5, constraint6, constraint7, constraint8, constraint9, x1, x2, x3, x4, x5, x6, y1, y2, y3"
      ]
     },
     "execution_count": 24,
     "metadata": {},
     "output_type": "execute_result"
    }
   ],
   "source": [
    "m"
   ]
  },
  {
   "cell_type": "code",
   "execution_count": 25,
   "id": "5f03dd19",
   "metadata": {},
   "outputs": [],
   "source": [
    "JuMP.optimize!(m)"
   ]
  },
  {
   "cell_type": "code",
   "execution_count": 26,
   "id": "52796bd8",
   "metadata": {},
   "outputs": [
    {
     "name": "stdout",
     "output_type": "stream",
     "text": [
      "Optimal Solutions:\n",
      "z* = 27425.0\n",
      "x1 = 0.0\n",
      "x2 = 400.0\n",
      "x3 = 0.0\n",
      "x4 = 0.0\n",
      "x5 = 550.0\n",
      "x6 = 50.0\n"
     ]
    }
   ],
   "source": [
    "println(\"Optimal Solutions:\")\n",
    "println(\"z* = \", JuMP.objective_value(m))\n",
    "println(\"x1 = \", JuMP.value(x1))\n",
    "println(\"x2 = \", JuMP.value(x2))\n",
    "println(\"x3 = \", JuMP.value(x3))\n",
    "println(\"x4 = \", JuMP.value(x4))\n",
    "println(\"x5 = \", JuMP.value(x5))\n",
    "println(\"x6 = \", JuMP.value(x6))"
   ]
  },
  {
   "cell_type": "code",
   "execution_count": 27,
   "id": "0f61df38",
   "metadata": {},
   "outputs": [
    {
     "name": "stdout",
     "output_type": "stream",
     "text": [
      "Dual Variables:\n"
     ]
    },
    {
     "ename": "LoadError",
     "evalue": "The shadow price is not available because no dual result is available.",
     "output_type": "error",
     "traceback": [
      "The shadow price is not available because no dual result is available.",
      "",
      "Stacktrace:",
      " [1] error(s::String)",
      "   @ Base .\\error.jl:33",
      " [2] shadow_price(con_ref::ConstraintRef{Model, MathOptInterface.ConstraintIndex{MathOptInterface.ScalarAffineFunction{Float64}, MathOptInterface.LessThan{Float64}}, ScalarShape})",
      "   @ JuMP C:\\Users\\Ilaria\\.julia\\packages\\JuMP\\lnUbA\\src\\constraints.jl:1021",
      " [3] top-level scope",
      "   @ In[27]:2",
      " [4] eval",
      "   @ .\\boot.jl:373 [inlined]",
      " [5] include_string(mapexpr::typeof(REPL.softscope), mod::Module, code::String, filename::String)",
      "   @ Base .\\loading.jl:1196"
     ]
    }
   ],
   "source": [
    "println(\"Dual Variables:\")\n",
    "println(\"dual1 = \", JuMP.shadow_price(constraint1))\n",
    "println(\"dual2 = \", JuMP.shadow_price(constraint2))\n",
    "println(\"dual3 = \", JuMP.shadow_price(constraint3))\n",
    "println(\"dual4 = \", JuMP.shadow_price(constraint4))\n",
    "println(\"dual5 = \", JuMP.shadow_price(constraint5))\n",
    "println(\"dual6 = \", JuMP.shadow_price(constraint6))\n",
    "println(\"dual7 = \", JuMP.shadow_price(constraint7))\n",
    "println(\"dual8 = \", JuMP.shadow_price(constraint8))"
   ]
  },
  {
   "cell_type": "code",
   "execution_count": null,
   "id": "abc0bcb7",
   "metadata": {},
   "outputs": [],
   "source": []
  },
  {
   "cell_type": "code",
   "execution_count": null,
   "id": "6fa5b470",
   "metadata": {},
   "outputs": [],
   "source": []
  }
 ],
 "metadata": {
  "kernelspec": {
   "display_name": "Julia 1.7.1",
   "language": "julia",
   "name": "julia-1.7"
  },
  "language_info": {
   "file_extension": ".jl",
   "mimetype": "application/julia",
   "name": "julia",
   "version": "1.7.1"
  }
 },
 "nbformat": 4,
 "nbformat_minor": 5
}
