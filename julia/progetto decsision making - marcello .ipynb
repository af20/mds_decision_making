{
 "cells": [
  {
   "cell_type": "code",
   "execution_count": 1,
   "id": "fbcdead1",
   "metadata": {},
   "outputs": [
    {
     "name": "stderr",
     "output_type": "stream",
     "text": [
      "\u001b[32m\u001b[1m    Updating\u001b[22m\u001b[39m registry at `C:\\Users\\marce\\.julia\\registries\\General.toml`\n",
      "\u001b[32m\u001b[1m   Resolving\u001b[22m\u001b[39m package versions...\n",
      "\u001b[32m\u001b[1m  No Changes\u001b[22m\u001b[39m to `C:\\Users\\marce\\.julia\\environments\\v1.7\\Project.toml`\n",
      "\u001b[32m\u001b[1m  No Changes\u001b[22m\u001b[39m to `C:\\Users\\marce\\.julia\\environments\\v1.7\\Manifest.toml`\n"
     ]
    }
   ],
   "source": [
    "import Pkg\n",
    "Pkg.add(\"JuMP\")"
   ]
  },
  {
   "cell_type": "code",
   "execution_count": 2,
   "id": "df76ea20",
   "metadata": {},
   "outputs": [],
   "source": [
    "using JuMP, GLPK"
   ]
  },
  {
   "cell_type": "code",
   "execution_count": 3,
   "id": "291414ac",
   "metadata": {},
   "outputs": [
    {
     "data": {
      "text/plain": [
       "A JuMP Model\n",
       "Feasibility problem with:\n",
       "Variables: 0\n",
       "Model mode: AUTOMATIC\n",
       "CachingOptimizer state: EMPTY_OPTIMIZER\n",
       "Solver name: GLPK"
      ]
     },
     "execution_count": 3,
     "metadata": {},
     "output_type": "execute_result"
    }
   ],
   "source": [
    "m = Model(GLPK.Optimizer)"
   ]
  },
  {
   "cell_type": "code",
   "execution_count": 4,
   "id": "3d04eeba",
   "metadata": {},
   "outputs": [
    {
     "data": {
      "text/latex": [
       "constraint8 : $ x5 + x6 - 750 y3 \\leq 0.0 $"
      ],
      "text/plain": [
       "constraint8 : x5 + x6 - 750 y3 <= 0.0"
      ]
     },
     "execution_count": 4,
     "metadata": {},
     "output_type": "execute_result"
    }
   ],
   "source": [
    "@variable(m, x1 >=0)\n",
    "@variable(m, x2 >=0)\n",
    "@variable(m, x3 >=0)\n",
    "@variable(m, x4 >=0)\n",
    "@variable(m, x5 >=0)\n",
    "@variable(m, x6 >=0)\n",
    "@variable(m, y1 >=0)\n",
    "@variable(m, y2 >=0)\n",
    "@variable(m, y3 >=0)\n",
    "\n",
    "@objective(m, Min, 22x1 + 23.5x2 + 23.5x3 + 25.5x4 + 24x5 + 26.5x6 + 1000y1 + 1500y2 + 2500y3)\n",
    "\n",
    "@constraint(m, constraint1, x1 + x2 <= 425)\n",
    "@constraint(m, constraint2, x3 + x4 <= 400)\n",
    "@constraint(m, constraint3, x5 + x6 <= 750)\n",
    "@constraint(m, constraint4, x1 + x3 + x5 >= 550)\n",
    "@constraint(m, constraint5, x2 + x4 + x6 >= 450)\n",
    "@constraint(m, constraint6, x1 + x2 - 425y1 <= 0)\n",
    "@constraint(m, constraint7, x3 + x4 - 400y2 <= 0)\n",
    "@constraint(m, constraint8, x5 + x6 - 750y3 <= 0)"
   ]
  },
  {
   "cell_type": "code",
   "execution_count": 5,
   "id": "5779c444",
   "metadata": {},
   "outputs": [
    {
     "data": {
      "text/latex": [
       "$$ \\begin{aligned}\n",
       "\\min\\quad & 22 x1 + 23.5 x2 + 23.5 x3 + 25.5 x4 + 24 x5 + 26.5 x6 + 1000 y1 + 1500 y2 + 2500 y3\\\\\n",
       "\\text{Subject to} \\quad & x1 + x3 + x5 \\geq 550.0\\\\\n",
       " & x2 + x4 + x6 \\geq 450.0\\\\\n",
       " & x1 + x2 \\leq 425.0\\\\\n",
       " & x3 + x4 \\leq 400.0\\\\\n",
       " & x5 + x6 \\leq 750.0\\\\\n",
       " & x1 + x2 - 425 y1 \\leq 0.0\\\\\n",
       " & x3 + x4 - 400 y2 \\leq 0.0\\\\\n",
       " & x5 + x6 - 750 y3 \\leq 0.0\\\\\n",
       " & x1 \\geq 0.0\\\\\n",
       " & x2 \\geq 0.0\\\\\n",
       " & x3 \\geq 0.0\\\\\n",
       " & x4 \\geq 0.0\\\\\n",
       " & x5 \\geq 0.0\\\\\n",
       " & x6 \\geq 0.0\\\\\n",
       " & y1 \\geq 0.0\\\\\n",
       " & y2 \\geq 0.0\\\\\n",
       " & y3 \\geq 0.0\\\\\n",
       "\\end{aligned} $$"
      ]
     },
     "metadata": {},
     "output_type": "display_data"
    }
   ],
   "source": [
    "print(m)"
   ]
  },
  {
   "cell_type": "code",
   "execution_count": 6,
   "id": "978c06df",
   "metadata": {},
   "outputs": [
    {
     "data": {
      "text/plain": [
       "A JuMP Model\n",
       "Minimization problem with:\n",
       "Variables: 9\n",
       "Objective function type: AffExpr\n",
       "`AffExpr`-in-`MathOptInterface.GreaterThan{Float64}`: 2 constraints\n",
       "`AffExpr`-in-`MathOptInterface.LessThan{Float64}`: 6 constraints\n",
       "`VariableRef`-in-`MathOptInterface.GreaterThan{Float64}`: 9 constraints\n",
       "Model mode: AUTOMATIC\n",
       "CachingOptimizer state: EMPTY_OPTIMIZER\n",
       "Solver name: GLPK\n",
       "Names registered in the model: constraint1, constraint2, constraint3, constraint4, constraint5, constraint6, constraint7, constraint8, x1, x2, x3, x4, x5, x6, y1, y2, y3"
      ]
     },
     "execution_count": 6,
     "metadata": {},
     "output_type": "execute_result"
    }
   ],
   "source": [
    "m"
   ]
  },
  {
   "cell_type": "code",
   "execution_count": 7,
   "id": "27ac6736",
   "metadata": {},
   "outputs": [],
   "source": [
    "optimize!(m)"
   ]
  },
  {
   "cell_type": "code",
   "execution_count": 8,
   "id": "bc069c5e",
   "metadata": {},
   "outputs": [
    {
     "name": "stdout",
     "output_type": "stream",
     "text": [
      "Optimal Solutions:\n",
      "x1 = 0.0\n",
      "x2 = 425.0\n",
      "x3 = 375.0\n",
      "x4 = 25.0\n",
      "x5 = 175.0\n",
      "x6 = 0.0\n"
     ]
    }
   ],
   "source": [
    "println(\"Optimal Solutions:\")\n",
    "println(\"x1 = \", JuMP.value(x1))\n",
    "println(\"x2 = \", JuMP.value(x2))\n",
    "println(\"x3 = \", JuMP.value(x3))\n",
    "println(\"x4 = \", JuMP.value(x4))\n",
    "println(\"x5 = \", JuMP.value(x5))\n",
    "println(\"x6 = \", JuMP.value(x6))"
   ]
  },
  {
   "cell_type": "code",
   "execution_count": null,
   "id": "a71346ee",
   "metadata": {},
   "outputs": [],
   "source": []
  }
 ],
 "metadata": {
  "kernelspec": {
   "display_name": "Julia 1.7.1",
   "language": "julia",
   "name": "julia-1.7"
  },
  "language_info": {
   "file_extension": ".jl",
   "mimetype": "application/julia",
   "name": "julia",
   "version": "1.7.1"
  },
  "toc": {
   "base_numbering": 1,
   "nav_menu": {},
   "number_sections": true,
   "sideBar": true,
   "skip_h1_title": false,
   "title_cell": "Table of Contents",
   "title_sidebar": "Contents",
   "toc_cell": false,
   "toc_position": {},
   "toc_section_display": true,
   "toc_window_display": false
  }
 },
 "nbformat": 4,
 "nbformat_minor": 5
}
