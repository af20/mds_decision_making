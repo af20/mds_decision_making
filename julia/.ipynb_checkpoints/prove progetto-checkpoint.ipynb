{
 "cells": [
  {
   "cell_type": "markdown",
   "id": "1ea37f74",
   "metadata": {},
   "source": [
    "# prove progetto"
   ]
  },
  {
   "cell_type": "markdown",
   "id": "b0d8613b",
   "metadata": {},
   "source": [
    "## 1"
   ]
  },
  {
   "cell_type": "code",
   "execution_count": null,
   "id": "e0c1c9c8",
   "metadata": {},
   "outputs": [],
   "source": [
    "using JuMP, GLPK;"
   ]
  },
  {
   "cell_type": "code",
   "execution_count": null,
   "id": "60838809",
   "metadata": {},
   "outputs": [],
   "source": [
    "#m = Model(with_optimizer(GLPK.Optimizer));\n",
    "m = Model(GLPK.Optimizer)"
   ]
  },
  {
   "cell_type": "code",
   "execution_count": null,
   "id": "8c3a86b6",
   "metadata": {},
   "outputs": [],
   "source": [
    "@variable(m, x1 >=0)\n",
    "@variable(m, x2 >=0)\n",
    "@variable(m, x3 >=0)\n",
    "@variable(m, x4 >=0)\n",
    "@variable(m, x5 >=0)\n",
    "@variable(m, x6 >=0)\n",
    "\n",
    "@objective(m, Min, 21x1 + 22.5x2 + 22.5x3 + 24.5x4 + 23x5 + 25.5x6)\n",
    "\n",
    "@constraint(m, constraint1, x1 + x2 <= 425)\n",
    "@constraint(m, constraint2, x3 + x4 <= 400)\n",
    "@constraint(m, constraint3, x5 + x6 <= 750)\n",
    "@constraint(m, constraint4, x1 + x3 + x5 >= 550)\n",
    "@constraint(m, constraint5, x2 + x4 + x6 >= 450)"
   ]
  },
  {
   "cell_type": "code",
   "execution_count": null,
   "id": "a1d230d6",
   "metadata": {},
   "outputs": [],
   "source": [
    "m"
   ]
  },
  {
   "cell_type": "code",
   "execution_count": null,
   "id": "f09c6260",
   "metadata": {},
   "outputs": [],
   "source": [
    "optimize!(m)"
   ]
  },
  {
   "cell_type": "code",
   "execution_count": null,
   "id": "29664047",
   "metadata": {},
   "outputs": [],
   "source": [
    "termination_status(m)"
   ]
  },
  {
   "cell_type": "code",
   "execution_count": null,
   "id": "37271990",
   "metadata": {},
   "outputs": [],
   "source": [
    "@show termination_status(m)\n",
    "@show primal_status(m)\n",
    "@show dual_status(m)\n",
    "@show objective_value(m)\n",
    "@show value(x1)\n",
    "@show value(x2)\n",
    "@show value(x3)\n",
    "@show value(x4)\n",
    "@show value(x5)\n",
    "@show value(x6)\n",
    "@show shadow_price(constraint1)\n",
    "@show shadow_price(constraint2)\n",
    "@show shadow_price(constraint3)\n",
    "@show shadow_price(constraint4)\n",
    "@show shadow_price(constraint5)\n",
    "@show shadow_price(constraint6)"
   ]
  },
  {
   "cell_type": "code",
   "execution_count": null,
   "id": "bbfe1348",
   "metadata": {},
   "outputs": [],
   "source": []
  }
 ],
 "metadata": {
  "kernelspec": {
   "display_name": "Julia 1.7.1",
   "language": "julia",
   "name": "julia-1.7"
  },
  "language_info": {
   "file_extension": ".jl",
   "mimetype": "application/julia",
   "name": "julia",
   "version": "1.7.1"
  }
 },
 "nbformat": 4,
 "nbformat_minor": 5
}
