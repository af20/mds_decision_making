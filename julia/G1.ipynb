{
 "cells": [
  {
   "cell_type": "markdown",
   "id": "1ea37f74",
   "metadata": {},
   "source": [
    "# GoNuts"
   ]
  },
  {
   "cell_type": "markdown",
   "id": "b0d8613b",
   "metadata": {},
   "source": [
    "## 1"
   ]
  },
  {
   "cell_type": "code",
   "execution_count": 1,
   "id": "e0c1c9c8",
   "metadata": {},
   "outputs": [],
   "source": [
    "using JuMP, GLPK;"
   ]
  },
  {
   "cell_type": "code",
   "execution_count": 2,
   "id": "60838809",
   "metadata": {
    "scrolled": false
   },
   "outputs": [
    {
     "data": {
      "text/plain": [
       "A JuMP Model\n",
       "Feasibility problem with:\n",
       "Variables: 0\n",
       "Model mode: AUTOMATIC\n",
       "CachingOptimizer state: EMPTY_OPTIMIZER\n",
       "Solver name: GLPK"
      ]
     },
     "execution_count": 2,
     "metadata": {},
     "output_type": "execute_result"
    }
   ],
   "source": [
    "m = Model(GLPK.Optimizer)"
   ]
  },
  {
   "cell_type": "code",
   "execution_count": 3,
   "id": "8c3a86b6",
   "metadata": {},
   "outputs": [
    {
     "data": {
      "text/latex": [
       "constraint5 : $ x2 + x4 + x6 \\geq 450.0 $"
      ],
      "text/plain": [
       "constraint5 : x2 + x4 + x6 >= 450.0"
      ]
     },
     "execution_count": 3,
     "metadata": {},
     "output_type": "execute_result"
    }
   ],
   "source": [
    "@variable(m, x1 >=0)\n",
    "@variable(m, x2 >=0)\n",
    "@variable(m, x3 >=0)\n",
    "@variable(m, x4 >=0)\n",
    "@variable(m, x5 >=0)\n",
    "@variable(m, x6 >=0)\n",
    "\n",
    "@objective(m, Min, 21x1 + 22.5x2 + 22.5x3 + 24.5x4 + 23x5 + 25.5x6)\n",
    "\n",
    "@constraint(m, constraint1, x1 + x2 <= 425)\n",
    "@constraint(m, constraint2, x3 + x4 <= 400)\n",
    "@constraint(m, constraint3, x5 + x6 <= 750)\n",
    "@constraint(m, constraint4, x1 + x3 + x5 >= 550)\n",
    "@constraint(m, constraint5, x2 + x4 + x6 >= 450)"
   ]
  },
  {
   "cell_type": "code",
   "execution_count": 4,
   "id": "a1d230d6",
   "metadata": {},
   "outputs": [
    {
     "data": {
      "text/latex": [
       "$$ \\begin{aligned}\n",
       "\\min\\quad & 21 x1 + 22.5 x2 + 22.5 x3 + 24.5 x4 + 23 x5 + 25.5 x6\\\\\n",
       "\\text{Subject to} \\quad & x1 + x3 + x5 \\geq 550.0\\\\\n",
       " & x2 + x4 + x6 \\geq 450.0\\\\\n",
       " & x1 + x2 \\leq 425.0\\\\\n",
       " & x3 + x4 \\leq 400.0\\\\\n",
       " & x5 + x6 \\leq 750.0\\\\\n",
       " & x1 \\geq 0.0\\\\\n",
       " & x2 \\geq 0.0\\\\\n",
       " & x3 \\geq 0.0\\\\\n",
       " & x4 \\geq 0.0\\\\\n",
       " & x5 \\geq 0.0\\\\\n",
       " & x6 \\geq 0.0\\\\\n",
       "\\end{aligned} $$"
      ]
     },
     "metadata": {},
     "output_type": "display_data"
    }
   ],
   "source": [
    "print(m)"
   ]
  },
  {
   "cell_type": "code",
   "execution_count": 5,
   "id": "f09c6260",
   "metadata": {},
   "outputs": [],
   "source": [
    "optimize!(m)"
   ]
  },
  {
   "cell_type": "code",
   "execution_count": 6,
   "id": "29664047",
   "metadata": {},
   "outputs": [
    {
     "data": {
      "text/plain": [
       "OPTIMAL::TerminationStatusCode = 1"
      ]
     },
     "execution_count": 6,
     "metadata": {},
     "output_type": "execute_result"
    }
   ],
   "source": [
    "termination_status(m)"
   ]
  },
  {
   "cell_type": "code",
   "execution_count": 7,
   "id": "ecbd3603",
   "metadata": {},
   "outputs": [
    {
     "name": "stdout",
     "output_type": "stream",
     "text": [
      "termination_status(m) = MathOptInterface.OPTIMAL\n",
      "primal_status(m) = MathOptInterface.FEASIBLE_POINT\n",
      "dual_status(m) = MathOptInterface.FEASIBLE_POINT\n"
     ]
    },
    {
     "data": {
      "text/plain": [
       "FEASIBLE_POINT::ResultStatusCode = 1"
      ]
     },
     "execution_count": 7,
     "metadata": {},
     "output_type": "execute_result"
    }
   ],
   "source": [
    "@show termination_status(m)\n",
    "@show primal_status(m)\n",
    "@show dual_status(m)"
   ]
  },
  {
   "cell_type": "code",
   "execution_count": 8,
   "id": "37271990",
   "metadata": {},
   "outputs": [
    {
     "name": "stdout",
     "output_type": "stream",
     "text": [
      "Optimal Solutions:\n",
      "z* = 22637.5\n",
      "x1 = 0.0\n",
      "x2 = 425.0\n",
      "x3 = 375.0\n",
      "x4 = 25.0\n",
      "x5 = 175.0\n",
      "x6 = 0.0\n"
     ]
    }
   ],
   "source": [
    "println(\"Optimal Solutions:\")\n",
    "println(\"z* = \", JuMP.objective_value(m))\n",
    "println(\"x1 = \", JuMP.value(x1))\n",
    "println(\"x2 = \", JuMP.value(x2))\n",
    "println(\"x3 = \", JuMP.value(x3))\n",
    "println(\"x4 = \", JuMP.value(x4))\n",
    "println(\"x5 = \", JuMP.value(x5))\n",
    "println(\"x6 = \", JuMP.value(x6))"
   ]
  },
  {
   "cell_type": "code",
   "execution_count": 9,
   "id": "de5db0a1",
   "metadata": {},
   "outputs": [
    {
     "name": "stdout",
     "output_type": "stream",
     "text": [
      "shadow_price(constraint1) = -2.5\n",
      "shadow_price(constraint2) = -0.5\n",
      "shadow_price(constraint3) = 0.0\n",
      "shadow_price(constraint4) = -23.0\n",
      "shadow_price(constraint5) = -25.0\n"
     ]
    },
    {
     "data": {
      "text/plain": [
       "-25.0"
      ]
     },
     "execution_count": 9,
     "metadata": {},
     "output_type": "execute_result"
    }
   ],
   "source": [
    "@show shadow_price(constraint1)\n",
    "@show shadow_price(constraint2)\n",
    "@show shadow_price(constraint3)\n",
    "@show shadow_price(constraint4)\n",
    "@show shadow_price(constraint5)"
   ]
  },
  {
   "cell_type": "markdown",
   "id": "a7108b2f",
   "metadata": {},
   "source": [
    "## Modificando i costi (I)"
   ]
  },
  {
   "cell_type": "code",
   "execution_count": 10,
   "id": "bae18172",
   "metadata": {
    "scrolled": true
   },
   "outputs": [
    {
     "data": {
      "text/plain": [
       "A JuMP Model\n",
       "Feasibility problem with:\n",
       "Variables: 0\n",
       "Model mode: AUTOMATIC\n",
       "CachingOptimizer state: EMPTY_OPTIMIZER\n",
       "Solver name: GLPK"
      ]
     },
     "execution_count": 10,
     "metadata": {},
     "output_type": "execute_result"
    }
   ],
   "source": [
    "n = Model(GLPK.Optimizer)"
   ]
  },
  {
   "cell_type": "code",
   "execution_count": 11,
   "id": "b970c9d4",
   "metadata": {},
   "outputs": [
    {
     "data": {
      "text/latex": [
       "constraint5 : $ x2 + x4 + x6 \\geq 450.0 $"
      ],
      "text/plain": [
       "constraint5 : x2 + x4 + x6 >= 450.0"
      ]
     },
     "execution_count": 11,
     "metadata": {},
     "output_type": "execute_result"
    }
   ],
   "source": [
    "@variable(n, x1 >=0)\n",
    "@variable(n, x2 >=0)\n",
    "@variable(n, x3 >=0)\n",
    "@variable(n, x4 >=0)\n",
    "@variable(n, x5 >=0)\n",
    "@variable(n, x6 >=0)\n",
    "\n",
    "@objective(n, Min, 20.5x1 + 22x2 + 22.5x3 + 24.5x4 + 23x5 + 25.5x6)\n",
    "\n",
    "@constraint(n, constraint1, x1 + x2 <= 425)\n",
    "@constraint(n, constraint2, x3 + x4 <= 400)\n",
    "@constraint(n, constraint3, x5 + x6 <= 750)\n",
    "@constraint(n, constraint4, x1 + x3 + x5 >= 550)\n",
    "@constraint(n, constraint5, x2 + x4 + x6 >= 450)"
   ]
  },
  {
   "cell_type": "code",
   "execution_count": 13,
   "id": "1ef477fc",
   "metadata": {},
   "outputs": [],
   "source": [
    "optimize!(n)"
   ]
  },
  {
   "cell_type": "code",
   "execution_count": 14,
   "id": "7280d70e",
   "metadata": {},
   "outputs": [
    {
     "data": {
      "text/plain": [
       "OPTIMAL::TerminationStatusCode = 1"
      ]
     },
     "execution_count": 14,
     "metadata": {},
     "output_type": "execute_result"
    }
   ],
   "source": [
    "termination_status(n)"
   ]
  },
  {
   "cell_type": "code",
   "execution_count": null,
   "id": "6cc7a46e",
   "metadata": {},
   "outputs": [],
   "source": [
    "@show termination_status(n)\n",
    "@show primal_status(n)\n",
    "@show dual_status(n)"
   ]
  },
  {
   "cell_type": "code",
   "execution_count": 15,
   "id": "b5389b58",
   "metadata": {},
   "outputs": [
    {
     "name": "stdout",
     "output_type": "stream",
     "text": [
      "termination_status(n) = MathOptInterface.OPTIMAL\n",
      "primal_status(n) = MathOptInterface.FEASIBLE_POINT\n",
      "dual_status(n) = MathOptInterface.FEASIBLE_POINT\n",
      "objective_value(n) = 22425.0\n",
      "value(x1) = 0.0\n",
      "value(x2) = 425.0\n",
      "value(x3) = 375.0\n",
      "value(x4) = 25.0\n",
      "value(x5) = 175.0\n",
      "value(x6) = 0.0\n",
      "shadow_price(constraint1) = -3.0\n",
      "shadow_price(constraint2) = -0.5\n",
      "shadow_price(constraint3) = 0.0\n",
      "shadow_price(constraint4) = -23.0\n",
      "shadow_price(constraint5) = -25.0\n"
     ]
    },
    {
     "data": {
      "text/plain": [
       "-25.0"
      ]
     },
     "execution_count": 15,
     "metadata": {},
     "output_type": "execute_result"
    }
   ],
   "source": [
    "@show objective_value(n)\n",
    "@show value(x1)\n",
    "@show value(x2)\n",
    "@show value(x3)\n",
    "@show value(x4)\n",
    "@show value(x5)\n",
    "@show value(x6)\n",
    "@show shadow_price(constraint1)\n",
    "@show shadow_price(constraint2)\n",
    "@show shadow_price(constraint3)\n",
    "@show shadow_price(constraint4)\n",
    "@show shadow_price(constraint5)"
   ]
  },
  {
   "cell_type": "markdown",
   "id": "a178688a",
   "metadata": {},
   "source": [
    "## Modificando i costi (II)"
   ]
  },
  {
   "cell_type": "code",
   "execution_count": 30,
   "id": "646c579e",
   "metadata": {},
   "outputs": [
    {
     "data": {
      "text/plain": [
       "A JuMP Model\n",
       "Feasibility problem with:\n",
       "Variables: 0\n",
       "Model mode: AUTOMATIC\n",
       "CachingOptimizer state: EMPTY_OPTIMIZER\n",
       "Solver name: GLPK"
      ]
     },
     "execution_count": 30,
     "metadata": {},
     "output_type": "execute_result"
    }
   ],
   "source": [
    "p = Model(GLPK.Optimizer)"
   ]
  },
  {
   "cell_type": "code",
   "execution_count": 31,
   "id": "9f6e95d1",
   "metadata": {},
   "outputs": [
    {
     "data": {
      "text/latex": [
       "constraint5 : $ x2 + x4 + x6 \\geq 450.0 $"
      ],
      "text/plain": [
       "constraint5 : x2 + x4 + x6 >= 450.0"
      ]
     },
     "execution_count": 31,
     "metadata": {},
     "output_type": "execute_result"
    }
   ],
   "source": [
    "@variable(p, x1 >=0)\n",
    "@variable(p, x2 >=0)\n",
    "@variable(p, x3 >=0)\n",
    "@variable(p, x4 >=0)\n",
    "@variable(p, x5 >=0)\n",
    "@variable(p, x6 >=0)\n",
    "\n",
    "@objective(p, Min, 23x1 + 24.5x2 + 22.5x3 + 24.5x4 + 23x5 + 25.5x6)\n",
    "\n",
    "@constraint(p, constraint1, x1 + x2 <= 425)\n",
    "@constraint(p, constraint2, x3 + x4 <= 400)\n",
    "@constraint(p, constraint3, x5 + x6 <= 750)\n",
    "@constraint(p, constraint4, x1 + x3 + x5 >= 550)\n",
    "@constraint(p, constraint5, x2 + x4 + x6 >= 450)"
   ]
  },
  {
   "cell_type": "code",
   "execution_count": 32,
   "id": "28b3c5fb",
   "metadata": {},
   "outputs": [],
   "source": [
    "optimize!(p)"
   ]
  },
  {
   "cell_type": "code",
   "execution_count": 33,
   "id": "d4327753",
   "metadata": {},
   "outputs": [
    {
     "data": {
      "text/plain": [
       "OPTIMAL::TerminationStatusCode = 1"
      ]
     },
     "execution_count": 33,
     "metadata": {},
     "output_type": "execute_result"
    }
   ],
   "source": [
    "termination_status(p)"
   ]
  },
  {
   "cell_type": "code",
   "execution_count": null,
   "id": "90db8ef9",
   "metadata": {},
   "outputs": [],
   "source": [
    "@show termination_status(p)\n",
    "@show primal_status(p)\n",
    "@show dual_status(p)\n",
    "@show objective_value(p)"
   ]
  },
  {
   "cell_type": "code",
   "execution_count": 34,
   "id": "b077398b",
   "metadata": {},
   "outputs": [
    {
     "name": "stdout",
     "output_type": "stream",
     "text": [
      "termination_status(p) = MathOptInterface.OPTIMAL\n",
      "primal_status(p) = MathOptInterface.FEASIBLE_POINT\n",
      "dual_status(p) = MathOptInterface.FEASIBLE_POINT\n",
      "objective_value(p) = 23487.5\n",
      "value(x1) = 0.0\n",
      "value(x2) = 425.0\n",
      "value(x3) = 375.0\n",
      "value(x4) = 25.0\n",
      "value(x5) = 175.0\n",
      "value(x6) = 0.0\n",
      "shadow_price(constraint1) = -0.5\n",
      "shadow_price(constraint2) = -0.5\n",
      "shadow_price(constraint3) = 0.0\n",
      "shadow_price(constraint4) = -23.0\n",
      "shadow_price(constraint5) = -25.0\n"
     ]
    },
    {
     "data": {
      "text/plain": [
       "-25.0"
      ]
     },
     "execution_count": 34,
     "metadata": {},
     "output_type": "execute_result"
    }
   ],
   "source": [
    "@show value(x1)\n",
    "@show value(x2)\n",
    "@show value(x3)\n",
    "@show value(x4)\n",
    "@show value(x5)\n",
    "@show value(x6)\n",
    "@show shadow_price(constraint1)\n",
    "@show shadow_price(constraint2)\n",
    "@show shadow_price(constraint3)\n",
    "@show shadow_price(constraint4)\n",
    "@show shadow_price(constraint5)"
   ]
  },
  {
   "cell_type": "code",
   "execution_count": null,
   "id": "de7d18b8",
   "metadata": {},
   "outputs": [],
   "source": []
  }
 ],
 "metadata": {
  "kernelspec": {
   "display_name": "Julia 1.7.1",
   "language": "julia",
   "name": "julia-1.7"
  },
  "language_info": {
   "file_extension": ".jl",
   "mimetype": "application/julia",
   "name": "julia",
   "version": "1.7.1"
  }
 },
 "nbformat": 4,
 "nbformat_minor": 5
}
