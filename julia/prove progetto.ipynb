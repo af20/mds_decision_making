{
 "cells": [
  {
   "cell_type": "markdown",
   "id": "1ea37f74",
   "metadata": {},
   "source": [
    "# prove progetto"
   ]
  },
  {
   "cell_type": "markdown",
   "id": "b0d8613b",
   "metadata": {},
   "source": [
    "## 1"
   ]
  },
  {
   "cell_type": "code",
   "execution_count": 2,
   "id": "e0c1c9c8",
   "metadata": {},
   "outputs": [],
   "source": [
    "using JuMP, GLPK;"
   ]
  },
  {
   "cell_type": "code",
   "execution_count": 3,
   "id": "60838809",
   "metadata": {},
   "outputs": [
    {
     "data": {
      "text/plain": [
       "A JuMP Model\n",
       "Feasibility problem with:\n",
       "Variables: 0\n",
       "Model mode: AUTOMATIC\n",
       "CachingOptimizer state: EMPTY_OPTIMIZER\n",
       "Solver name: GLPK"
      ]
     },
     "execution_count": 3,
     "metadata": {},
     "output_type": "execute_result"
    }
   ],
   "source": [
    "#m = Model(with_optimizer(GLPK.Optimizer));\n",
    "m = Model(GLPK.Optimizer)"
   ]
  },
  {
   "cell_type": "code",
   "execution_count": 9,
   "id": "8c3a86b6",
   "metadata": {},
   "outputs": [
    {
     "data": {
      "text/latex": [
       "constraint5 : $ x2 + x4 + x6 \\geq 450.0 $"
      ],
      "text/plain": [
       "constraint5 : x2 + x4 + x6 >= 450.0"
      ]
     },
     "execution_count": 9,
     "metadata": {},
     "output_type": "execute_result"
    }
   ],
   "source": [
    "@variable(m, x1 >=0)\n",
    "@variable(m, x2 >=0)\n",
    "@variable(m, x3 >=0)\n",
    "@variable(m, x4 >=0)\n",
    "@variable(m, x5 >=0)\n",
    "@variable(m, x6 >=0)\n",
    "\n",
    "@objective(m, Min, 21x1 + 22.5x2 + 22.5x3 + 24.5x4 + 23x5 + 25.5x6)\n",
    "\n",
    "@constraint(m, constraint1, x1 + x2 <= 425)\n",
    "@constraint(m, constraint2, x3 + x4 <= 400)\n",
    "@constraint(m, constraint3, x5 + x6 <= 750)\n",
    "@constraint(m, constraint4, x1 + x3 + x5 >= 550)\n",
    "@constraint(m, constraint5, x2 + x4 + x6 >= 450)"
   ]
  },
  {
   "cell_type": "code",
   "execution_count": 10,
   "id": "a1d230d6",
   "metadata": {},
   "outputs": [
    {
     "data": {
      "text/plain": [
       "A JuMP Model\n",
       "Minimization problem with:\n",
       "Variables: 6\n",
       "Objective function type: AffExpr\n",
       "`AffExpr`-in-`MathOptInterface.GreaterThan{Float64}`: 2 constraints\n",
       "`AffExpr`-in-`MathOptInterface.LessThan{Float64}`: 3 constraints\n",
       "`VariableRef`-in-`MathOptInterface.GreaterThan{Float64}`: 6 constraints\n",
       "Model mode: AUTOMATIC\n",
       "CachingOptimizer state: ATTACHED_OPTIMIZER\n",
       "Solver name: GLPK\n",
       "Names registered in the model: constraint1, constraint2, constraint3, constraint4, constraint5, x1, x2, x3, x4, x5, x6"
      ]
     },
     "execution_count": 10,
     "metadata": {},
     "output_type": "execute_result"
    }
   ],
   "source": [
    "m"
   ]
  },
  {
   "cell_type": "code",
   "execution_count": 11,
   "id": "f09c6260",
   "metadata": {},
   "outputs": [],
   "source": [
    "optimize!(m)"
   ]
  },
  {
   "cell_type": "code",
   "execution_count": 12,
   "id": "29664047",
   "metadata": {},
   "outputs": [
    {
     "data": {
      "text/plain": [
       "OPTIMAL::TerminationStatusCode = 1"
      ]
     },
     "execution_count": 12,
     "metadata": {},
     "output_type": "execute_result"
    }
   ],
   "source": [
    "termination_status(m)"
   ]
  },
  {
   "cell_type": "code",
   "execution_count": 13,
   "id": "37271990",
   "metadata": {},
   "outputs": [
    {
     "name": "stdout",
     "output_type": "stream",
     "text": [
      "termination_status(m) = MathOptInterface.OPTIMAL\n",
      "primal_status(m) = MathOptInterface.FEASIBLE_POINT\n",
      "dual_status(m) = MathOptInterface.FEASIBLE_POINT\n",
      "objective_value(m) = 22637.5\n",
      "value(x1) = 0.0\n",
      "value(x2) = 425.0\n",
      "value(x3) = 375.0\n",
      "value(x4) = 25.0\n",
      "value(x5) = 175.0\n",
      "value(x6) = 0.0\n",
      "shadow_price(constraint1) = -2.5\n",
      "shadow_price(constraint2) = -0.5\n",
      "shadow_price(constraint3) = 0.0\n",
      "shadow_price(constraint4) = -23.0\n",
      "shadow_price(constraint5) = -25.0\n"
     ]
    },
    {
     "ename": "LoadError",
     "evalue": "UndefVarError: constraint6 not defined",
     "output_type": "error",
     "traceback": [
      "UndefVarError: constraint6 not defined",
      "",
      "Stacktrace:",
      " [1] top-level scope",
      "   @ show.jl:1047",
      " [2] eval",
      "   @ .\\boot.jl:373 [inlined]",
      " [3] include_string(mapexpr::typeof(REPL.softscope), mod::Module, code::String, filename::String)",
      "   @ Base .\\loading.jl:1196"
     ]
    }
   ],
   "source": [
    "@show termination_status(m)\n",
    "@show primal_status(m)\n",
    "@show dual_status(m)\n",
    "@show objective_value(m)\n",
    "@show value(x1)\n",
    "@show value(x2)\n",
    "@show value(x3)\n",
    "@show value(x4)\n",
    "@show value(x5)\n",
    "@show value(x6)\n",
    "@show shadow_price(constraint1)\n",
    "@show shadow_price(constraint2)\n",
    "@show shadow_price(constraint3)\n",
    "@show shadow_price(constraint4)\n",
    "@show shadow_price(constraint5)\n",
    "@show shadow_price(constraint6)"
   ]
  },
  {
   "cell_type": "code",
   "execution_count": null,
   "id": "bbfe1348",
   "metadata": {},
   "outputs": [],
   "source": []
  }
 ],
 "metadata": {
  "kernelspec": {
   "display_name": "Julia 1.7.1",
   "language": "julia",
   "name": "julia-1.7"
  },
  "language_info": {
   "file_extension": ".jl",
   "mimetype": "application/julia",
   "name": "julia",
   "version": "1.7.1"
  }
 },
 "nbformat": 4,
 "nbformat_minor": 5
}
